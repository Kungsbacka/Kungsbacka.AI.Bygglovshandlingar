{
 "cells": [
  {
   "cell_type": "code",
   "execution_count": 2,
   "metadata": {},
   "outputs": [],
   "source": [
    "import requests\n",
    "import os\n",
    "import pandas as pd\n",
    "from PIL import Image\n",
    "# Load the test set\n",
    "test_df = pd.read_csv('test.csv')\n",
    "calibration = \"00\"\n",
    "pdf_path = \"./test.pdf\"\n",
    "# Define the base URL of your API\n",
    "base_url = 'http://127.0.0.1:8080'\n",
    "\n",
    "\n",
    "def image_to_pdf(image_path, output_pdf_path):\n",
    "    # Open the image file\n",
    "    image = Image.open(image_path)\n",
    "    \n",
    "    # Convert image to RGB (if not already in RGB mode)\n",
    "    if image.mode != 'RGB':\n",
    "        image = image.convert('RGB')\n",
    "    \n",
    "    # Save image as PDF\n",
    "    image.save(output_pdf_path, \"PDF\", resolution=100.0)\n",
    "\n",
    "def send_pdf_to_api(pdf_path, api_url, headers=None):\n",
    "    # Open the PDF file in binary mode\n",
    "    with open(pdf_path, 'rb') as pdf_file:\n",
    "        # Prepare the file data to send in the request\n",
    "        files = {'file': (os.path.basename(pdf_path), pdf_file, 'application/pdf')}\n",
    "        \n",
    "        # Send the POST request to the API\n",
    "        response = requests.post(f\"{base_url}/{api_url}\", files=files, headers=headers)\n",
    "        \n",
    "    return response"
   ]
  },
  {
   "cell_type": "code",
   "execution_count": 3,
   "metadata": {},
   "outputs": [],
   "source": [
    "test_df = test_df[test_df['label'] != \"diskutera\"]"
   ]
  },
  {
   "cell_type": "code",
   "execution_count": null,
   "metadata": {},
   "outputs": [],
   "source": [
    "test_df[\"label\"].unique()"
   ]
  },
  {
   "cell_type": "code",
   "execution_count": 5,
   "metadata": {},
   "outputs": [],
   "source": [
    "def check_skalstock(image_path, data, endpoint):\n",
    "    # Convert the image to a PDF\n",
    "    #print(data)\n",
    "    image_to_pdf(image_path, pdf_path)\n",
    "    \n",
    "    # Send the PDF to the API\n",
    "    response = send_pdf_to_api(pdf_path, endpoint)\n",
    "\n",
    "    response_dict = response.json()\n",
    "    print(response_dict)\n",
    "    if response_dict['scale'][\"status\"]:\n",
    "        scale_api = 1\n",
    "    else:\n",
    "        scale_api = 0\n",
    "    if \"skalstock_ok\" == data[\"label\"] or \"skalstock_ej_ok\" == data[\"label\"]:\n",
    "        print(\"scale\")\n",
    "        scale_true = 1\n",
    "    else:\n",
    "        scale_true = 0\n",
    "\n",
    "    return scale_true, scale_api"
   ]
  },
  {
   "cell_type": "code",
   "execution_count": null,
   "metadata": {},
   "outputs": [],
   "source": [
    "data = test_df[test_df[\"label\"].isin([\"skalstock_ok\", \"skalstock_saknas\", \"skalstock_ej_ok\"])]\n",
    "results = {\"Fasad\": {\"scale\": {\"T\":[], \"P\":[], \"image\":[]}}}\n",
    "data\n",
    "for i in range(len(data)):\n",
    "    print(i, \"/\", len(data))\n",
    "    row = data.iloc[i]\n",
    "    image = row[\"image\"]\n",
    "    if \"Fasadritning\" in image:\n",
    "        scale_true, scale_api = check_skalstock(image, row, \"checkFasadritning\")\n",
    "        \n",
    "    elif \"Planritning\" in image:\n",
    "        scale_true, scale_api = check_skalstock(image, row, \"checkPlanritning\")\n",
    "    elif \"Sektion\" in image:\n",
    "        scale_true, scale_api = check_skalstock(image, row, \"checkSektionsritning\")\n",
    "    elif \"Situation\" in image:\n",
    "        scale_true, scale_api = check_skalstock(image, row, \"checkSituationsplan\")\n",
    "    elif \"Nybyggnadskarta\" in image:\n",
    "        scale_true, scale_api = check_skalstock(image, row, \"checkSituationsplan\")\n",
    "    else:\n",
    "        print(\"No match\", image)\n",
    "        continue\n",
    "    #print(results)\n",
    "    print(scale_true, scale_api)\n",
    "    results[\"Fasad\"][\"scale\"][\"T\"].append(scale_true)\n",
    "    results[\"Fasad\"][\"scale\"][\"P\"].append(scale_api)\n",
    "    results[\"Fasad\"][\"scale\"][\"image\"].append(image)\n",
    "    print(scale_true, scale_api, image)"
   ]
  },
  {
   "cell_type": "code",
   "execution_count": 156,
   "metadata": {},
   "outputs": [],
   "source": [
    "result_df = pd.DataFrame(results[\"Fasad\"][\"scale\"])"
   ]
  },
  {
   "cell_type": "code",
   "execution_count": 157,
   "metadata": {},
   "outputs": [],
   "source": [
    "result_df = pd.DataFrame(results[\"Fasad\"][\"scale\"])\n",
    "result_df.to_csv(f\"skalstock_results{calibration}.csv\", index=False)"
   ]
  },
  {
   "cell_type": "code",
   "execution_count": null,
   "metadata": {},
   "outputs": [],
   "source": [
    "#draw confusion matrix\n",
    "import seaborn as sns\n",
    "import matplotlib.pyplot as plt\n",
    "from sklearn.metrics import confusion_matrix\n",
    "import numpy as np\n",
    "confusion_matrix(result_df[\"T\"], result_df[\"P\"])\n",
    "cm = confusion_matrix(result_df[\"T\"], result_df[\"P\"])\n",
    "sns.heatmap(cm, annot=True, fmt='g')\n",
    "plt.title('Confusion matrix för skalstock på alla ritningar')\n",
    "plt.xlabel(\"AI\")\n",
    "plt.ylabel(\"Anoterad\")\n",
    "plt.show()\n"
   ]
  },
  {
   "cell_type": "code",
   "execution_count": null,
   "metadata": {},
   "outputs": [],
   "source": [
    "#for each image type draw a confusion matrix\n",
    "\n",
    "for image_type in [\"Fasad\", \"Plan\", \"Sektion\", \"Situation\", \"Nybyggnadskarta\"]:\n",
    "    resultat_type = result_df[result_df[\"image\"].str.contains(image_type)]\n",
    "    cm = confusion_matrix(resultat_type[\"T\"], resultat_type[\"P\"])\n",
    "    sns.heatmap(cm, annot=True, fmt='g')\n",
    "    plt.title(f'Confusion matrix för skalstock på {image_type}')\n",
    "    plt.xlabel(\"AI\")\n",
    "    plt.ylabel(\"Anoterad\")\n",
    "    plt.show()\n",
    "    "
   ]
  },
  {
   "cell_type": "code",
   "execution_count": 160,
   "metadata": {},
   "outputs": [],
   "source": [
    "def check_kompass(image_path, data, endpoint):\n",
    "    # Convert the image to a PDF\n",
    "    #print(data)\n",
    "    image_to_pdf(image_path, pdf_path)\n",
    "    \n",
    "    # Send the PDF to the API\n",
    "    response = send_pdf_to_api(pdf_path, endpoint)\n",
    "\n",
    "    response_dict = response.json()\n",
    "    print(response_dict)\n",
    "    if response_dict['direction_marker'][\"status\"]:\n",
    "        direction_api = 1\n",
    "    else:\n",
    "        direction_api = 0\n",
    "    if \"riktning_symbol\" == data[\"label\"]:\n",
    "        print(\"scale\")\n",
    "        direction_true = 1\n",
    "    else:\n",
    "        direction_true = 0\n",
    "\n",
    "    return direction_true, direction_api"
   ]
  },
  {
   "cell_type": "code",
   "execution_count": null,
   "metadata": {},
   "outputs": [],
   "source": [
    "test_df[\"label\"].unique()"
   ]
  },
  {
   "cell_type": "code",
   "execution_count": null,
   "metadata": {},
   "outputs": [],
   "source": [
    "data = test_df[test_df[\"label\"].isin([\"riktning_symbol\", \"riktning_saknas\", \"riktning_ej_ok\"])]\n",
    "results = {\"Direction\": {\"T\":[], \"P\":[], \"image\":[]}}\n",
    "\n",
    "for i in range(len(data)):\n",
    "    print(i, \"/\", len(data))\n",
    "    row = data.iloc[i]\n",
    "    image = row[\"image\"]\n",
    "    if \"Situation\" in image:\n",
    "        direction_true, direction_api = check_kompass(image, row, \"checkSituationsplan\")\n",
    "    elif \"Nybyggnadskarta\" in image:\n",
    "        direction_true, direction_api = check_kompass(image, row, \"checkSituationsplan\")\n",
    "    else:\n",
    "        print(\"No match\", image)\n",
    "        continue\n",
    "    #print(results)\n",
    "    print(row[\"label\"])\n",
    "    results[\"Direction\"][\"T\"].append(direction_true)\n",
    "    results[\"Direction\"][\"P\"].append(direction_api)\n",
    "    results[\"Direction\"][\"image\"].append(image)\n",
    "    print(direction_true, direction_api, image)"
   ]
  },
  {
   "cell_type": "code",
   "execution_count": 163,
   "metadata": {},
   "outputs": [],
   "source": [
    "result_df = pd.DataFrame(results[\"Direction\"])\n",
    "result_df.to_csv(f\"kompassros_results{calibration}.csv\", index=False)"
   ]
  },
  {
   "cell_type": "code",
   "execution_count": null,
   "metadata": {},
   "outputs": [],
   "source": [
    "#draw confusion matrix\n",
    "import seaborn as sns\n",
    "import matplotlib.pyplot as plt\n",
    "from sklearn.metrics import confusion_matrix\n",
    "import numpy as np\n",
    "confusion_matrix(result_df[\"T\"], result_df[\"P\"])\n",
    "cm = confusion_matrix(result_df[\"T\"], result_df[\"P\"])\n",
    "sns.heatmap(cm, annot=True, fmt='g')\n",
    "plt.title('Confusion matrix för kompassros på alla ritningar')\n",
    "plt.xlabel(\"AI\")\n",
    "plt.ylabel(\"Anoterad\")\n",
    "plt.show()\n"
   ]
  },
  {
   "cell_type": "code",
   "execution_count": null,
   "metadata": {},
   "outputs": [],
   "source": []
  },
  {
   "cell_type": "code",
   "execution_count": 165,
   "metadata": {},
   "outputs": [],
   "source": [
    "def check_riktning(image_path, data, endpoint):\n",
    "    # Convert the image to a PDF\n",
    "    #print(data)\n",
    "    image_to_pdf(image_path, pdf_path)\n",
    "    \n",
    "    # Send the PDF to the API\n",
    "    response = send_pdf_to_api(pdf_path, endpoint)\n",
    "\n",
    "    response_dict = response.json()\n",
    "    print(response_dict)\n",
    "    if response_dict['direction_marker'][\"status\"]:\n",
    "        direction_api = 1\n",
    "    elif response_dict['direction_marker'][\"code\"] == 240:\n",
    "        direction_api = 2\n",
    "    elif response_dict['direction_marker'][\"code\"] == 250:\n",
    "        direction_api = -1\n",
    "    else:\n",
    "        direction_api = 0\n",
    "    num_fasad = len(data[data[\"label\"] == \"fasad\"])\n",
    "    num_riktning = len(data[data[\"label\"] == \"riktning_text\"])\n",
    "    if num_fasad == num_riktning:\n",
    "        direction_true = 1\n",
    "    else:\n",
    "        direction_true = 0\n",
    "    print(num_fasad, num_riktning)\n",
    "    return direction_true, direction_api"
   ]
  },
  {
   "cell_type": "code",
   "execution_count": null,
   "metadata": {},
   "outputs": [],
   "source": [
    "test_df[\"label\"].unique()"
   ]
  },
  {
   "cell_type": "code",
   "execution_count": null,
   "metadata": {},
   "outputs": [],
   "source": [
    "data = test_df[test_df[\"image\"].str.contains(\"Fasadritning\")]\n",
    "\n",
    "\n",
    "results = {\"Direction\": {\"T\":[], \"P\":[], \"image\":[]}}\n",
    "images = list(data[\"image\"].unique())\n",
    "\n",
    "data.groupby(\"image\")\n",
    "\n",
    "\n",
    "for i in range(len(images)):\n",
    "    print(i, \"/\", len(images))\n",
    "    image = images[i]\n",
    "    rows = data[data[\"image\"] == image]\n",
    "    if (\"riktning_text\" in rows[\"label\"].unique() or \"riktning_saknas\" in rows[\"label\"].unique() or \"riktning_ej_ok\" in rows[\"label\"].unique()) and \"fasad\" in rows[\"label\"].unique():\n",
    "        if \"Fasadritning\" in image:\n",
    "            direction_true, direction_api = check_riktning(image, rows, \"checkFasadritning\")\n",
    "        else:\n",
    "            print(\"No match\", image)\n",
    "            continue\n",
    "    else:\n",
    "        print(\"No match\", image)\n",
    "        continue\n",
    "    #print(results)\n",
    "    #print(row[\"label\"])\n",
    "    results[\"Direction\"][\"T\"].append(direction_true)\n",
    "    results[\"Direction\"][\"P\"].append(direction_api)\n",
    "    results[\"Direction\"][\"image\"].append(image)\n",
    "    print(direction_true, direction_api, image)"
   ]
  },
  {
   "cell_type": "code",
   "execution_count": 168,
   "metadata": {},
   "outputs": [],
   "source": [
    "result_df = pd.DataFrame(results[\"Direction\"])\n",
    "result_df.to_csv(f\"riktning_text_results{calibration}.csv\", index=False)"
   ]
  },
  {
   "cell_type": "code",
   "execution_count": null,
   "metadata": {},
   "outputs": [],
   "source": [
    "#draw confusion matrix\n",
    "import seaborn as sns\n",
    "import matplotlib.pyplot as plt\n",
    "from sklearn.metrics import confusion_matrix\n",
    "import numpy as np\n",
    "confusion_matrix(result_df[\"T\"], result_df[\"P\"])\n",
    "cm = confusion_matrix(result_df[\"T\"], result_df[\"P\"])\n",
    "sns.heatmap(cm, annot=True, fmt='g')\n",
    "plt.title('Confusion matrix för kompassriktning på alla ritningar')\n",
    "plt.xlabel(\"AI\")\n",
    "plt.ylabel(\"Anoterad\")\n",
    "plt.show()"
   ]
  },
  {
   "cell_type": "code",
   "execution_count": 170,
   "metadata": {},
   "outputs": [],
   "source": [
    "def check_distance(image_path, data, endpoint):\n",
    "    # Convert the image to a PDF\n",
    "    #print(data)\n",
    "    image_to_pdf(image_path, pdf_path)\n",
    "    \n",
    "    # Send the PDF to the API\n",
    "    response = send_pdf_to_api(pdf_path, endpoint)\n",
    "\n",
    "    response_dict = response.json()\n",
    "    print(response_dict)\n",
    "    if response_dict['distance_messurement'][\"code\"] == \"400\":\n",
    "        distance_api = 1\n",
    "        num_lines_api = 3\n",
    "    elif response_dict['distance_messurement'][\"code\"] == \"440\":\n",
    "        distance_api = 0\n",
    "        num_lines_api = 0\n",
    "    elif response_dict['distance_messurement'][\"code\"] == \"460\":\n",
    "        distance_api = 0\n",
    "        num_lines_api = 1\n",
    "    elif response_dict['distance_messurement'][\"code\"] == \"470\":\n",
    "        distance_api = 0\n",
    "        num_lines_api = 2\n",
    "    else:\n",
    "        distance_api = 0\n",
    "    lines = ['linje1', 'linje2','linje3', 'linje4', 'linje5', 'linje6']\n",
    "    num_lines = 0\n",
    "    for line in lines:\n",
    "        line_annotation = data[data[\"label\"] == line]\n",
    "        if len(line_annotation) == 2:\n",
    "            num_lines += 1\n",
    "    if num_lines >= 3:\n",
    "        distance_true = 1\n",
    "    else:\n",
    "        distance_true = 0\n",
    "    print(\"num lines \", num_lines)\n",
    "    if num_lines > 3:\n",
    "        num_lines = 3\n",
    "    return distance_true, distance_api, num_lines_api, num_lines"
   ]
  },
  {
   "cell_type": "code",
   "execution_count": null,
   "metadata": {},
   "outputs": [],
   "source": [
    "test_df[test_df[\"label\"] == \"linje1\"]"
   ]
  },
  {
   "cell_type": "code",
   "execution_count": null,
   "metadata": {},
   "outputs": [],
   "source": [
    "data = test_df[test_df[\"label\"] == \"linje1\"]\n",
    "\n",
    "\n",
    "results = {\"Distance\": {\"T\":[], \"P\":[],\"Num_lines_api\": [], \"Num_lines_annotation\":[], \"image\":[]}}\n",
    "images = list(data[\"image\"].unique())\n",
    "\n",
    "\n",
    "for i in range(len(images)):\n",
    "    print(i, \"/\", len(images))\n",
    "    image = images[i]\n",
    "    rows = test_df[test_df[\"image\"] == image]\n",
    "    print(rows[\"label\"].unique())\n",
    "    print(len(rows))\n",
    "    if \"linje1\" in rows[\"label\"].unique():\n",
    "        if \"Situationsplan\" in image or \"Nybyggnadskarta\" in image:\n",
    "            direction_true, direction_api, num_lines_api, num_lines_true = check_distance(image, rows, \"checkSituationsplan\")\n",
    "        else:\n",
    "            print(\"No match\", image)\n",
    "            continue\n",
    "    else:\n",
    "        print(\"No match\", image)\n",
    "        continue\n",
    "    #print(results)\n",
    "    #print(row[\"label\"])\n",
    "    results[\"Distance\"][\"T\"].append(direction_true)\n",
    "    results[\"Distance\"][\"P\"].append(direction_api)\n",
    "    results[\"Distance\"][\"Num_lines_api\"].append(num_lines_api)\n",
    "    results[\"Distance\"][\"Num_lines_annotation\"].append(num_lines_true)\n",
    "    results[\"Distance\"][\"image\"].append(image)\n",
    "    print(direction_true, direction_api, image, num_lines_api, num_lines_true)\n",
    "    print(\"1:\" ,results[\"Distance\"][\"T\"].count(1), results[\"Distance\"][\"P\"].count(1))\n",
    "    print(\"0:\", results[\"Distance\"][\"T\"].count(0), results[\"Distance\"][\"P\"].count(0))"
   ]
  },
  {
   "cell_type": "code",
   "execution_count": 173,
   "metadata": {},
   "outputs": [],
   "source": [
    "result_df = pd.DataFrame(results[\"Distance\"])\n",
    "result_df.to_csv(f\"distance_results{calibration}.csv\", index=False)"
   ]
  },
  {
   "cell_type": "code",
   "execution_count": null,
   "metadata": {},
   "outputs": [],
   "source": [
    "result_df"
   ]
  },
  {
   "cell_type": "code",
   "execution_count": null,
   "metadata": {},
   "outputs": [],
   "source": [
    "#draw confusion matrix\n",
    "import seaborn as sns\n",
    "import matplotlib.pyplot as plt\n",
    "from sklearn.metrics import confusion_matrix\n",
    "import numpy as np\n",
    "confusion_matrix(result_df[\"Num_lines_annotation\"], result_df[\"Num_lines_api\"])\n",
    "cm = confusion_matrix(result_df[\"Num_lines_annotation\"], result_df[\"Num_lines_api\"])\n",
    "sns.heatmap(cm, annot=True, fmt='g')\n",
    "plt.title('Confusion matrix för Avstånd till tomt på alla ritningar')\n",
    "plt.xlabel(\"AI\")\n",
    "plt.ylabel(\"Anoterad\")\n",
    "plt.show()"
   ]
  },
  {
   "cell_type": "code",
   "execution_count": null,
   "metadata": {},
   "outputs": [],
   "source": [
    "#draw confusion matrix\n",
    "import seaborn as sns\n",
    "import matplotlib.pyplot as plt\n",
    "from sklearn.metrics import confusion_matrix\n",
    "import numpy as np\n",
    "confusion_matrix(result_df[\"T\"], result_df[\"P\"])\n",
    "cm = confusion_matrix(result_df[\"T\"], result_df[\"P\"])\n",
    "sns.heatmap(cm, annot=True, fmt='g')\n",
    "plt.title('Confusion matrix för kompassriktning på alla ritningar')\n",
    "plt.xlabel(\"AI\")\n",
    "plt.ylabel(\"Anoterad\")\n",
    "plt.show()"
   ]
  },
  {
   "cell_type": "code",
   "execution_count": null,
   "metadata": {},
   "outputs": [],
   "source": []
  },
  {
   "cell_type": "code",
   "execution_count": 26,
   "metadata": {},
   "outputs": [],
   "source": [
    "def check_groundlines(image_path, data, endpoint, ground_line=True):\n",
    "    # Convert the image to a PDF\n",
    "    #print(data)\n",
    "    image_to_pdf(image_path, pdf_path)\n",
    "    \n",
    "    # Send the PDF to the API\n",
    "    response = send_pdf_to_api(pdf_path, endpoint)\n",
    "\n",
    "    response_dict = response.json()\n",
    "    print(response_dict)\n",
    "    if response_dict['ground_level'][\"code\"] == \"300\":\n",
    "        ground_api = 1\n",
    "        num_lines_api = 1\n",
    "    elif response_dict['ground_level'][\"code\"] == \"340\":\n",
    "        ground_api = 1\n",
    "        num_lines_api = 2\n",
    "\n",
    "    else:\n",
    "        num_lines_api = 0\n",
    "        ground_api = 0\n",
    "\n",
    "  \n",
    "    num_fasad = len(data[data[\"label\"] == \"fasad\"])\n",
    "    num_ground = len(data[data[\"label\"] == \"ny_marklinje\"])\n",
    "    num_lines = 0\n",
    "    if ground_line:\n",
    "        for i in range(num_fasad):\n",
    "            # check if ther is a marklinje within the borders of the fasad\n",
    "            for j in range(num_ground):\n",
    "                x1 = data[data[\"label\"] == \"fasad\"].iloc[i][\"x\"]\n",
    "                x2 = data[data[\"label\"] == \"fasad\"].iloc[i][\"x\"] + data[data[\"label\"] == \"fasad\"].iloc[i][\"width\"]\n",
    "                y1 = data[data[\"label\"] == \"fasad\"].iloc[i][\"y\"]\n",
    "                y2 = data[data[\"label\"] == \"fasad\"].iloc[i][\"y\"] + data[data[\"label\"] == \"fasad\"].iloc[i][\"height\"]\n",
    "                x = data[data[\"label\"] == \"ny_marklinje\"].iloc[j][\"x\"]\n",
    "                y = data[data[\"label\"] == \"ny_marklinje\"].iloc[j][\"y\"]\n",
    "                if x > x1 and x < x2 and y > y1 and y < y2:\n",
    "                    num_lines += 1\n",
    "                    break\n",
    "    else:\n",
    "        ground_lines = 0\n",
    "            \n",
    "    if num_lines >= num_fasad:\n",
    "        ground_true = 1\n",
    "    else:\n",
    "        ground_true = 0\n",
    "    return ground_true, ground_api, num_lines_api, num_lines"
   ]
  },
  {
   "cell_type": "code",
   "execution_count": null,
   "metadata": {},
   "outputs": [],
   "source": [
    "test_df.label.unique()"
   ]
  },
  {
   "cell_type": "code",
   "execution_count": null,
   "metadata": {},
   "outputs": [],
   "source": [
    "data = test_df[test_df[\"label\"] == \"fasad\"]\n",
    "\n",
    "\n",
    "results = {\"Distance\": {\"T\":[], \"P\":[],\"Num_lines_api\": [], \"Num_lines_annotation\":[], \"image\":[]}}\n",
    "images = list(data[\"image\"].unique())\n",
    "\n",
    "\n",
    "for i in range(len(images)):\n",
    "    print(i, \"/\", len(images))\n",
    "    image = images[i]\n",
    "    rows = test_df[test_df[\"image\"] == image]\n",
    "    print(rows[\"label\"].unique())\n",
    "    print(len(rows))\n",
    "    if \"ny_marklinje\" in rows[\"label\"].unique():\n",
    "        if \"Fasadritning\" in image :\n",
    "            direction_true, direction_api, num_lines_api, num_lines_true = check_groundlines(image, rows, \"checkFasadritning\")\n",
    "            print(direction_true, direction_api, num_lines_api, num_lines_true)\n",
    "        else:\n",
    "            print(\"No match\", image)\n",
    "            continue\n",
    "    else:\n",
    "        direction_true, direction_api, num_lines_api, num_lines_true = check_groundlines(image, rows, \"checkFasadritning\", ground_line = False)\n",
    "        \n",
    "    #print(results)\n",
    "    #print(row[\"label\"])\n",
    "    results[\"Distance\"][\"T\"].append(direction_true)\n",
    "    results[\"Distance\"][\"P\"].append(direction_api)\n",
    "    results[\"Distance\"][\"Num_lines_api\"].append(num_lines_api)\n",
    "    results[\"Distance\"][\"Num_lines_annotation\"].append(num_lines_true)\n",
    "    results[\"Distance\"][\"image\"].append(image)\n",
    "    print(direction_true, direction_api, image, num_lines_api, num_lines_true)\n",
    "    print(\"1:\" ,results[\"Distance\"][\"T\"].count(1), results[\"Distance\"][\"P\"].count(1))\n",
    "    print(\"0:\", results[\"Distance\"][\"T\"].count(0), results[\"Distance\"][\"P\"].count(0))"
   ]
  },
  {
   "cell_type": "code",
   "execution_count": null,
   "metadata": {},
   "outputs": [],
   "source": [
    "calibration = \"06\""
   ]
  },
  {
   "cell_type": "code",
   "execution_count": 29,
   "metadata": {},
   "outputs": [],
   "source": [
    "result_df = pd.DataFrame(results[\"Distance\"])\n",
    "result_df.to_csv(f\"ground_result{calibration}.csv\", index=False)"
   ]
  },
  {
   "cell_type": "code",
   "execution_count": null,
   "metadata": {},
   "outputs": [],
   "source": [
    "import seaborn as sns\n",
    "import matplotlib.pyplot as plt\n",
    "from sklearn.metrics import confusion_matrix\n",
    "import numpy as np\n",
    "confusion_matrix(result_df[\"T\"], result_df[\"P\"])\n",
    "cm = confusion_matrix(result_df[\"T\"], result_df[\"P\"])\n",
    "sns.heatmap(cm, annot=True, fmt='g')\n",
    "plt.title('Confusion matrix för marklinjer på alla ritningar')\n",
    "plt.xlabel(\"AI\")\n",
    "plt.ylabel(\"Annoterad\")\n",
    "plt.show()"
   ]
  },
  {
   "cell_type": "code",
   "execution_count": null,
   "metadata": {},
   "outputs": [],
   "source": []
  }
 ],
 "metadata": {
  "kernelspec": {
   "display_name": "kba-bygglov",
   "language": "python",
   "name": "python3"
  },
  "language_info": {
   "codemirror_mode": {
    "name": "ipython",
    "version": 3
   },
   "file_extension": ".py",
   "mimetype": "text/x-python",
   "name": "python",
   "nbconvert_exporter": "python",
   "pygments_lexer": "ipython3",
   "version": "3.11.8"
  }
 },
 "nbformat": 4,
 "nbformat_minor": 2
}
